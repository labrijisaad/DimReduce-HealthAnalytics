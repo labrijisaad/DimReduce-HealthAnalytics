{
 "cells": [
  {
   "cell_type": "code",
   "execution_count": null,
   "id": "e576cdd7-a78d-4fce-9dbc-94bab45a8bff",
   "metadata": {},
   "outputs": [],
   "source": [
    "# https://archive.ph/2YdOX#selection-285.49-285.75\n"
   ]
  }
 ],
 "metadata": {
  "kernelspec": {
   "display_name": "Python 3 (ipykernel)",
   "language": "python",
   "name": "python3"
  },
  "language_info": {
   "codemirror_mode": {
    "name": "ipython",
    "version": 3
   },
   "file_extension": ".py",
   "mimetype": "text/x-python",
   "name": "python",
   "nbconvert_exporter": "python",
   "pygments_lexer": "ipython3",
   "version": "3.12.1"
  }
 },
 "nbformat": 4,
 "nbformat_minor": 5
}
